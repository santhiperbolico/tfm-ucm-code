{
 "cells": [
  {
   "cell_type": "markdown",
   "id": "7f408086-aa73-44f7-9b0f-47efd70a0bb2",
   "metadata": {},
   "source": [
    "# Análisis Clusters\n",
    "\n",
    "Análisis de los hiperparámetros elegidos en el proceso de optimización realizado en `hyper_velocity_stars_detection/jobs/google_jobs/download_globular_clusters.py`"
   ]
  },
  {
   "cell_type": "markdown",
   "id": "a758b757-aa45-440e-acf8-c3b8e91db666",
   "metadata": {},
   "source": [
    "### Requirements"
   ]
  },
  {
   "cell_type": "code",
   "execution_count": 35,
   "id": "4a653fbc-90a9-4cca-93ef-e63170587501",
   "metadata": {},
   "outputs": [
    {
     "name": "stdout",
     "output_type": "stream",
     "text": [
      "The autoreload extension is already loaded. To reload it, use:\n",
      "  %reload_ext autoreload\n"
     ]
    }
   ],
   "source": [
    "%load_ext autoreload\n",
    "%autoreload 2\n",
    "\n",
    "\n",
    "import sys\n",
    "import os\n",
    "\n",
    "import numpy as np\n",
    "from dotenv import load_dotenv\n",
    "from google.cloud import storage\n",
    "from tqdm import trange\n",
    "\n",
    "import pandas as pd\n",
    "from sklearn.cluster import DBSCAN, HDBSCAN\n",
    "from sklearn.preprocessing import StandardScaler, MinMaxScaler\n",
    "from sklearn.ensemble import IsolationForest\n",
    "from sklearn.neighbors import LocalOutlierFactor\n",
    "\n",
    "    \n",
    "project_path = os.path.abspath(os.path.join(os.getcwd(), \"../../src\"))  # Subir un nivel\n",
    "if project_path not in sys.path:\n",
    "    sys.path.append(project_path)\n",
    "            \n",
    "from hyper_velocity_stars_detection.jobs.utils import read_clusters_harris_catalog\n",
    "from hyper_velocity_stars_detection.jobs.google_jobs.utils import load_globular_cluster, ProjectDontExist\n",
    "from hyper_velocity_stars_detection.cluster_detection.clustering_methods import GaussianMixtureClustering\n",
    "\n",
    "load_dotenv(\"../../data/.env\")\n",
    "os.environ[\"GOOGLE_APPLICATION_CREDENTIALS\"] = \"../../data/hvs-storage.json\"\n",
    "\n",
    "PATH = \"../../data/report_notebook\"\n",
    "\n",
    "RADIUS_SCALE = 1\n",
    "CATALOG = \"gaiadr3\"\n",
    "FILTERS = {\"ast_params_solved\": 3, \"ruwe\": 1.4, \"v_periods_used\": 10, \"min_parallax\": 0}\n",
    "PROJECT = os.environ[\"PROJECT_ID\"]\n",
    "BUCKET = os.environ[\"BUCKET\"]\n",
    "BUCKET_PATH = \"report/gc_clusters/\""
   ]
  },
  {
   "cell_type": "markdown",
   "id": "d28a4251-0134-4f1f-8ce9-a82ea094b385",
   "metadata": {},
   "source": [
    "Descarga de los datos generados de la optimización."
   ]
  },
  {
   "cell_type": "code",
   "execution_count": 36,
   "id": "85869c10-6300-40f9-80fe-370227ae1dea",
   "metadata": {},
   "outputs": [
    {
     "name": "stderr",
     "output_type": "stream",
     "text": [
      "WARNING: BlankResponseWarning: Warning: The script line number 4 raised an error (recorded in the `errors` attribute of the result table): 'eridanus': No known catalog could be found [astroquery.simbad.core]:08<02:19,  1.01it/s]\n",
      "WARNING:astroquery:BlankResponseWarning: Warning: The script line number 4 raised an error (recorded in the `errors` attribute of the result table): 'eridanus': No known catalog could be found\n",
      "WARNING: BlankResponseWarning: Warning: The script line number 4 raised an error (recorded in the `errors` attribute of the result table): 'pyxis': No known catalog could be found [astroquery.simbad.core][00:13<01:53,  1.19it/s]\n",
      "WARNING:astroquery:BlankResponseWarning: Warning: The script line number 4 raised an error (recorded in the `errors` attribute of the result table): 'pyxis': No known catalog could be found\n",
      "WARNING: BlankResponseWarning: Warning: The script line number 4 raised an error (recorded in the `errors` attribute of the result table): Identifier not found in the database : BH 176 [astroquery.simbad.core]2<02:33,  1.42s/it]\n",
      "WARNING:astroquery:BlankResponseWarning: Warning: The script line number 4 raised an error (recorded in the `errors` attribute of the result table): Identifier not found in the database : BH 176\n",
      "WARNING: BlankResponseWarning: Warning: The script line number 4 raised an error (recorded in the `errors` attribute of the result table): '1636-283': No known catalog could be found [astroquery.simbad.core]:05<01:54,  1.18s/it]\n",
      "WARNING:astroquery:BlankResponseWarning: Warning: The script line number 4 raised an error (recorded in the `errors` attribute of the result table): '1636-283': No known catalog could be found\n",
      "WARNING: BlankResponseWarning: Warning: The script line number 4 raised an error (recorded in the `errors` attribute of the result table): 'hp 1': No known catalog could be found [astroquery.simbad.core] [01:36<01:11,  1.01s/it]\n",
      "WARNING:astroquery:BlankResponseWarning: Warning: The script line number 4 raised an error (recorded in the `errors` attribute of the result table): 'hp 1': No known catalog could be found\n",
      "100%|█████████████████████████████████████████████████████████████████████████████████████████████████████████████████████████████████████████████████████████████████████████████████████████████| 147/147 [03:06<00:00,  1.27s/it]\n"
     ]
    }
   ],
   "source": [
    "clusters_specials = [\"ngc 104\", \"ngc 5139\", \"ngc 5286\", \"ngc 6266\", \"ngc 6388\"]\n",
    "clusters = read_clusters_harris_catalog()\n",
    "gc_objects = {}\n",
    "for pos in trange(len(clusters)):\n",
    "    cluster = clusters[pos].name\n",
    "    try:\n",
    "        gc_objects[cluster] = load_globular_cluster(cluster, PROJECT, BUCKET, BUCKET_PATH)\n",
    "    except ProjectDontExist:\n",
    "        continue\n"
   ]
  },
  {
   "cell_type": "markdown",
   "id": "43bbf1a9-bbbe-41c3-91f5-aa4e13abbc11",
   "metadata": {},
   "source": [
    "Calculo de resumen de los hiperpaŕametros del proceso de optimización `hyper_velocity_stars_detection/jobs/google_jobs/download_globular_clusters.py`"
   ]
  },
  {
   "cell_type": "code",
   "execution_count": 27,
   "id": "ad9b2c8d-3459-4a1f-9ca0-d06041a118a7",
   "metadata": {},
   "outputs": [],
   "source": [
    "def get_algorithm_type(gc_object: GaussianMixtureClustering) -> str:\n",
    "    model = gc.clustering_results.clustering.model\n",
    "    if isinstance(model, HDBSCAN):\n",
    "        return \"HDBSCAN\"\n",
    "    if isinstance(model, DBSCAN):\n",
    "        return \"DBSCAN\"\n",
    "    if isinstance(model, GaussianMixtureClustering):\n",
    "        return \"GaussianMixtureModel\"\n",
    "    return None\n",
    "\n",
    "def get_noise_method(gc_object: GaussianMixtureClustering) -> str:\n",
    "    noise_method = gc.clustering_results.clustering.noise_method\n",
    "    if noise_method is not None:\n",
    "        model = noise_method.model\n",
    "        if isinstance(model, LocalOutlierFactor):\n",
    "            return \"LocalOutlierFactor\"\n",
    "        if isinstance(model, IsolationForest):\n",
    "            return \"IsolationForest\"\n",
    "    return None\n",
    "\n",
    "\n",
    "def get_scaler(gc_object: GaussianMixtureClustering) -> str:\n",
    "    scaler = gc.clustering_results.clustering.scaler\n",
    "    if scaler is not None:\n",
    "        if isinstance(scaler, StandardScaler):\n",
    "            return \"StandardScaler\"\n",
    "        if isinstance(scaler, MinMaxScaler):\n",
    "            return \"MinMaxScaler\"\n",
    "    return None"
   ]
  },
  {
   "cell_type": "code",
   "execution_count": 40,
   "id": "5c5ea680-11b1-4c13-8c3d-272a0f468984",
   "metadata": {},
   "outputs": [
    {
     "data": {
      "text/html": [
       "<div>\n",
       "<style scoped>\n",
       "    .dataframe tbody tr th:only-of-type {\n",
       "        vertical-align: middle;\n",
       "    }\n",
       "\n",
       "    .dataframe tbody tr th {\n",
       "        vertical-align: top;\n",
       "    }\n",
       "\n",
       "    .dataframe thead th {\n",
       "        text-align: right;\n",
       "    }\n",
       "</style>\n",
       "<table border=\"1\" class=\"dataframe\">\n",
       "  <thead>\n",
       "    <tr style=\"text-align: right;\">\n",
       "      <th></th>\n",
       "      <th>Name</th>\n",
       "      <th>Cluster Algorithm</th>\n",
       "      <th>Noise Method</th>\n",
       "      <th>Scaler</th>\n",
       "    </tr>\n",
       "  </thead>\n",
       "  <tbody>\n",
       "    <tr>\n",
       "      <th>0</th>\n",
       "      <td>NGC_104</td>\n",
       "      <td>HDBSCAN</td>\n",
       "      <td>None</td>\n",
       "      <td>StandardScaler</td>\n",
       "    </tr>\n",
       "    <tr>\n",
       "      <th>1</th>\n",
       "      <td>NGC_288</td>\n",
       "      <td>GaussianMixtureModel</td>\n",
       "      <td>IsolationForest</td>\n",
       "      <td>StandardScaler</td>\n",
       "    </tr>\n",
       "    <tr>\n",
       "      <th>2</th>\n",
       "      <td>NGC_362</td>\n",
       "      <td>HDBSCAN</td>\n",
       "      <td>None</td>\n",
       "      <td>StandardScaler</td>\n",
       "    </tr>\n",
       "    <tr>\n",
       "      <th>3</th>\n",
       "      <td>NGC_1261</td>\n",
       "      <td>HDBSCAN</td>\n",
       "      <td>None</td>\n",
       "      <td>StandardScaler</td>\n",
       "    </tr>\n",
       "    <tr>\n",
       "      <th>4</th>\n",
       "      <td>NAME_E_1</td>\n",
       "      <td>DBSCAN</td>\n",
       "      <td>None</td>\n",
       "      <td>StandardScaler</td>\n",
       "    </tr>\n",
       "    <tr>\n",
       "      <th>...</th>\n",
       "      <td>...</td>\n",
       "      <td>...</td>\n",
       "      <td>...</td>\n",
       "      <td>...</td>\n",
       "    </tr>\n",
       "    <tr>\n",
       "      <th>115</th>\n",
       "      <td>M_15</td>\n",
       "      <td>HDBSCAN</td>\n",
       "      <td>None</td>\n",
       "      <td>StandardScaler</td>\n",
       "    </tr>\n",
       "    <tr>\n",
       "      <th>116</th>\n",
       "      <td>M_2</td>\n",
       "      <td>DBSCAN</td>\n",
       "      <td>None</td>\n",
       "      <td>StandardScaler</td>\n",
       "    </tr>\n",
       "    <tr>\n",
       "      <th>117</th>\n",
       "      <td>M_30</td>\n",
       "      <td>DBSCAN</td>\n",
       "      <td>None</td>\n",
       "      <td>StandardScaler</td>\n",
       "    </tr>\n",
       "    <tr>\n",
       "      <th>118</th>\n",
       "      <td>Cl_Pal_12</td>\n",
       "      <td>GaussianMixtureModel</td>\n",
       "      <td>IsolationForest</td>\n",
       "      <td>MinMaxScaler</td>\n",
       "    </tr>\n",
       "    <tr>\n",
       "      <th>119</th>\n",
       "      <td>NGC_7492</td>\n",
       "      <td>DBSCAN</td>\n",
       "      <td>None</td>\n",
       "      <td>StandardScaler</td>\n",
       "    </tr>\n",
       "  </tbody>\n",
       "</table>\n",
       "<p>120 rows × 4 columns</p>\n",
       "</div>"
      ],
      "text/plain": [
       "          Name     Cluster Algorithm     Noise Method          Scaler\n",
       "0      NGC_104               HDBSCAN             None  StandardScaler\n",
       "1      NGC_288  GaussianMixtureModel  IsolationForest  StandardScaler\n",
       "2      NGC_362               HDBSCAN             None  StandardScaler\n",
       "3     NGC_1261               HDBSCAN             None  StandardScaler\n",
       "4     NAME_E_1                DBSCAN             None  StandardScaler\n",
       "..         ...                   ...              ...             ...\n",
       "115       M_15               HDBSCAN             None  StandardScaler\n",
       "116        M_2                DBSCAN             None  StandardScaler\n",
       "117       M_30                DBSCAN             None  StandardScaler\n",
       "118  Cl_Pal_12  GaussianMixtureModel  IsolationForest    MinMaxScaler\n",
       "119   NGC_7492                DBSCAN             None  StandardScaler\n",
       "\n",
       "[120 rows x 4 columns]"
      ]
     },
     "execution_count": 40,
     "metadata": {},
     "output_type": "execute_result"
    }
   ],
   "source": [
    "results = pd.DataFrame(columns=[\"Name\", \"Cluster Algorithm\", \"Noise Method\", \"Scaler\"])\n",
    "\n",
    "for pos, cluster in enumerate(gc_objects.keys()):\n",
    "    gc = gc_objects[cluster]\n",
    "    algorithm, noise, scaler = get_algorithm_type(gc), get_noise_method(gc), get_scaler(gc)\n",
    "    results.loc[pos] = (gc.name,algorithm, noise, scaler)\n",
    "results"
   ]
  },
  {
   "cell_type": "code",
   "execution_count": 45,
   "id": "e74f35fc-1d0b-4414-b9c4-84a83e8bdfed",
   "metadata": {},
   "outputs": [
    {
     "data": {
      "text/html": [
       "<div>\n",
       "<style scoped>\n",
       "    .dataframe tbody tr th:only-of-type {\n",
       "        vertical-align: middle;\n",
       "    }\n",
       "\n",
       "    .dataframe tbody tr th {\n",
       "        vertical-align: top;\n",
       "    }\n",
       "\n",
       "    .dataframe thead th {\n",
       "        text-align: right;\n",
       "    }\n",
       "</style>\n",
       "<table border=\"1\" class=\"dataframe\">\n",
       "  <thead>\n",
       "    <tr style=\"text-align: right;\">\n",
       "      <th></th>\n",
       "      <th></th>\n",
       "      <th>Name</th>\n",
       "      <th>Scaler</th>\n",
       "    </tr>\n",
       "    <tr>\n",
       "      <th>Cluster Algorithm</th>\n",
       "      <th>Noise Method</th>\n",
       "      <th></th>\n",
       "      <th></th>\n",
       "    </tr>\n",
       "  </thead>\n",
       "  <tbody>\n",
       "    <tr>\n",
       "      <th rowspan=\"2\" valign=\"top\">GaussianMixtureModel</th>\n",
       "      <th>IsolationForest</th>\n",
       "      <td>12</td>\n",
       "      <td>12</td>\n",
       "    </tr>\n",
       "    <tr>\n",
       "      <th>LocalOutlierFactor</th>\n",
       "      <td>4</td>\n",
       "      <td>3</td>\n",
       "    </tr>\n",
       "  </tbody>\n",
       "</table>\n",
       "</div>"
      ],
      "text/plain": [
       "                                         Name  Scaler\n",
       "Cluster Algorithm    Noise Method                    \n",
       "GaussianMixtureModel IsolationForest       12      12\n",
       "                     LocalOutlierFactor     4       3"
      ]
     },
     "execution_count": 45,
     "metadata": {},
     "output_type": "execute_result"
    }
   ],
   "source": [
    "results.groupby([\"Cluster Algorithm\", \"Noise Method\"]).count()"
   ]
  },
  {
   "cell_type": "code",
   "execution_count": 42,
   "id": "e05b4c39-2df5-4e8f-ae93-68ba42f7c003",
   "metadata": {},
   "outputs": [
    {
     "data": {
      "text/plain": [
       "Noise Method\n",
       "IsolationForest       12\n",
       "LocalOutlierFactor     4\n",
       "Name: count, dtype: int64"
      ]
     },
     "execution_count": 42,
     "metadata": {},
     "output_type": "execute_result"
    }
   ],
   "source": [
    "results[\"Noise Method\"].value_counts()\n"
   ]
  },
  {
   "cell_type": "code",
   "execution_count": 43,
   "id": "a7f5e603-6306-4855-8f20-c3f2e6ffe1f6",
   "metadata": {},
   "outputs": [
    {
     "data": {
      "text/plain": [
       "Scaler\n",
       "StandardScaler    112\n",
       "MinMaxScaler        7\n",
       "Name: count, dtype: int64"
      ]
     },
     "execution_count": 43,
     "metadata": {},
     "output_type": "execute_result"
    }
   ],
   "source": [
    "results[\"Scaler\"].value_counts()"
   ]
  }
 ],
 "metadata": {
  "kernelspec": {
   "display_name": "Python 3 (ipykernel)",
   "language": "python",
   "name": "python3"
  },
  "language_info": {
   "codemirror_mode": {
    "name": "ipython",
    "version": 3
   },
   "file_extension": ".py",
   "mimetype": "text/x-python",
   "name": "python",
   "nbconvert_exporter": "python",
   "pygments_lexer": "ipython3",
   "version": "3.11.13"
  }
 },
 "nbformat": 4,
 "nbformat_minor": 5
}
